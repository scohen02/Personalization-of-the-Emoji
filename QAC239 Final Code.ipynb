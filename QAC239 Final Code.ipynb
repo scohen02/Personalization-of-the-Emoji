{
  "nbformat": 4,
  "nbformat_minor": 0,
  "metadata": {
    "colab": {
      "name": "QAC 239 Final Project.ipynb",
      "provenance": [],
      "collapsed_sections": [],
      "toc_visible": true
    },
    "kernelspec": {
      "name": "python3",
      "display_name": "Python 3"
    }
  },
  "cells": [
    {
      "cell_type": "markdown",
      "metadata": {
        "id": "WNLBxLHsY9XO"
      },
      "source": [
        "# Personalization of the Emoji: Expanding on Trends in Multimedia Communication\n",
        "\n",
        "QAC 239 Final Project\n",
        "\n",
        "Emily Ribatt and Sophie Cohen\n",
        "\n",
        "May 21, 2021"
      ]
    },
    {
      "cell_type": "markdown",
      "metadata": {
        "id": "LjtVDm1ZA3LM"
      },
      "source": [
        "## Data"
      ]
    },
    {
      "cell_type": "code",
      "metadata": {
        "id": "Ki9o9c-maOjW",
        "colab": {
          "base_uri": "https://localhost:8080/"
        },
        "outputId": "789f7686-4c4c-430d-9b2e-25a79e3f2b0b"
      },
      "source": [
        "# Folder of face images for 5 people\n",
        "!gdown https://drive.google.com/uc?id=1Pk4lOno0mVFpprUc7a1ipRtVKgOA6WRe\n",
        "!unzip faces.zip"
      ],
      "execution_count": 1,
      "outputs": [
        {
          "output_type": "stream",
          "text": [
            "Downloading...\n",
            "From: https://drive.google.com/uc?id=1Pk4lOno0mVFpprUc7a1ipRtVKgOA6WRe\n",
            "To: /content/faces.zip\n",
            "82.6MB [00:00, 177MB/s] \n",
            "Archive:  faces.zip\n",
            "   creating: faces/\n",
            "  inflating: faces/.DS_Store         \n",
            "  inflating: __MACOSX/faces/._.DS_Store  \n",
            "   creating: faces/person5/\n",
            "   creating: faces/person2/\n",
            "   creating: faces/person3/\n",
            "   creating: faces/person4/\n",
            "   creating: faces/person1/\n",
            "  inflating: faces/person5/IMG_1608.jpg  \n",
            "  inflating: __MACOSX/faces/person5/._IMG_1608.jpg  \n",
            "  inflating: faces/person5/IMG_1609.jpg  \n",
            "  inflating: __MACOSX/faces/person5/._IMG_1609.jpg  \n",
            "  inflating: faces/person5/IMG_1610.jpg  \n",
            "  inflating: __MACOSX/faces/person5/._IMG_1610.jpg  \n",
            "  inflating: faces/person5/IMG_1611.jpg  \n",
            "  inflating: __MACOSX/faces/person5/._IMG_1611.jpg  \n",
            "  inflating: faces/person5/IMG_1607.jpg  \n",
            "  inflating: __MACOSX/faces/person5/._IMG_1607.jpg  \n",
            "  inflating: faces/person5/IMG_1613.jpg  \n",
            "  inflating: __MACOSX/faces/person5/._IMG_1613.jpg  \n",
            "  inflating: faces/person5/IMG_1612.jpg  \n",
            "  inflating: __MACOSX/faces/person5/._IMG_1612.jpg  \n",
            "  inflating: faces/person2/IMG_4760.jpg  \n",
            "  inflating: __MACOSX/faces/person2/._IMG_4760.jpg  \n",
            "  inflating: faces/person2/IMG_4759.jpg  \n",
            "  inflating: __MACOSX/faces/person2/._IMG_4759.jpg  \n",
            "  inflating: faces/person2/IMG_4754.jpg  \n",
            "  inflating: __MACOSX/faces/person2/._IMG_4754.jpg  \n",
            "  inflating: faces/person2/IMG_4755.jpg  \n",
            "  inflating: __MACOSX/faces/person2/._IMG_4755.jpg  \n",
            "  inflating: faces/person2/IMG_4756.jpg  \n",
            "  inflating: __MACOSX/faces/person2/._IMG_4756.jpg  \n",
            "  inflating: faces/person2/IMG_4752.jpg  \n",
            "  inflating: __MACOSX/faces/person2/._IMG_4752.jpg  \n",
            "  inflating: faces/person2/IMG_4750.jpg  \n",
            "  inflating: __MACOSX/faces/person2/._IMG_4750.jpg  \n",
            "  inflating: faces/person3/IMG_4748.jpg  \n",
            "  inflating: __MACOSX/faces/person3/._IMG_4748.jpg  \n",
            "  inflating: faces/person3/IMG_4743.jpg  \n",
            "  inflating: __MACOSX/faces/person3/._IMG_4743.jpg  \n",
            "  inflating: faces/person3/IMG_4742.jpg  \n",
            "  inflating: __MACOSX/faces/person3/._IMG_4742.jpg  \n",
            "  inflating: faces/person3/IMG_4746.jpg  \n",
            "  inflating: __MACOSX/faces/person3/._IMG_4746.jpg  \n",
            "  inflating: faces/person3/IMG_4747.jpg  \n",
            "  inflating: __MACOSX/faces/person3/._IMG_4747.jpg  \n",
            "  inflating: faces/person3/IMG_4745.jpg  \n",
            "  inflating: __MACOSX/faces/person3/._IMG_4745.jpg  \n",
            "  inflating: faces/person3/IMG_4744.jpg  \n",
            "  inflating: __MACOSX/faces/person3/._IMG_4744.jpg  \n",
            "  inflating: faces/person4/IMG_1593.jpg  \n",
            "  inflating: __MACOSX/faces/person4/._IMG_1593.jpg  \n",
            "  inflating: faces/person4/IMG_1592.jpg  \n",
            "  inflating: __MACOSX/faces/person4/._IMG_1592.jpg  \n",
            "  inflating: faces/person4/IMG_1596.jpg  \n",
            "  inflating: __MACOSX/faces/person4/._IMG_1596.jpg  \n",
            "  inflating: faces/person4/IMG_1597.jpg  \n",
            "  inflating: __MACOSX/faces/person4/._IMG_1597.jpg  \n",
            "  inflating: faces/person4/IMG_1595.jpg  \n",
            "  inflating: __MACOSX/faces/person4/._IMG_1595.jpg  \n",
            "  inflating: faces/person4/IMG_1594.jpg  \n",
            "  inflating: __MACOSX/faces/person4/._IMG_1594.jpg  \n",
            "  inflating: faces/person4/IMG_1598.jpg  \n",
            "  inflating: __MACOSX/faces/person4/._IMG_1598.jpg  \n",
            "  inflating: faces/person1/.DS_Store  \n",
            "  inflating: __MACOSX/faces/person1/._.DS_Store  \n",
            "  inflating: faces/person1/IMG_4767.jpg  \n",
            "  inflating: __MACOSX/faces/person1/._IMG_4767.jpg  \n",
            "  inflating: faces/person1/IMG_4766.jpg  \n",
            "  inflating: __MACOSX/faces/person1/._IMG_4766.jpg  \n",
            "  inflating: faces/person1/IMG_4770.jpg  \n",
            "  inflating: __MACOSX/faces/person1/._IMG_4770.jpg  \n",
            "  inflating: faces/person1/IMG_4764.jpg  \n",
            "  inflating: __MACOSX/faces/person1/._IMG_4764.jpg  \n",
            "  inflating: faces/person1/IMG_4765.jpg  \n",
            "  inflating: __MACOSX/faces/person1/._IMG_4765.jpg  \n",
            "  inflating: faces/person1/IMG_4768.jpg  \n",
            "  inflating: __MACOSX/faces/person1/._IMG_4768.jpg  \n",
            "  inflating: faces/person1/IMG_4769.jpg  \n",
            "  inflating: __MACOSX/faces/person1/._IMG_4769.jpg  \n"
          ],
          "name": "stdout"
        }
      ]
    },
    {
      "cell_type": "code",
      "metadata": {
        "id": "KMs-KQuoaMf7",
        "colab": {
          "base_uri": "https://localhost:8080/"
        },
        "outputId": "1cc3451c-c8bf-43a0-b167-5debd9902305"
      },
      "source": [
        "# Folder of background images\n",
        "!gdown https://drive.google.com/uc?id=11VS6zanGFto3urI3btDMTzhd0EO1PmyH\n",
        "!unzip background.zip"
      ],
      "execution_count": 2,
      "outputs": [
        {
          "output_type": "stream",
          "text": [
            "Downloading...\n",
            "From: https://drive.google.com/uc?id=11VS6zanGFto3urI3btDMTzhd0EO1PmyH\n",
            "To: /content/background.zip\n",
            "\r  0% 0.00/1.17M [00:00<?, ?B/s]\r100% 1.17M/1.17M [00:00<00:00, 77.7MB/s]\n",
            "Archive:  background.zip\n",
            "   creating: background/\n",
            "  inflating: background/happy.jpg    \n",
            "  inflating: __MACOSX/background/._happy.jpg  \n",
            "  inflating: background/neutral.jpg  \n",
            "  inflating: __MACOSX/background/._neutral.jpg  \n",
            "  inflating: background/.DS_Store    \n",
            "  inflating: __MACOSX/background/._.DS_Store  \n",
            "  inflating: background/sad.jpg      \n",
            "  inflating: __MACOSX/background/._sad.jpg  \n",
            "  inflating: background/disgust.jpg  \n",
            "  inflating: __MACOSX/background/._disgust.jpg  \n",
            "  inflating: background/surprise.jpg  \n",
            "  inflating: __MACOSX/background/._surprise.jpg  \n",
            "  inflating: background/anger.jpg    \n",
            "  inflating: __MACOSX/background/._anger.jpg  \n",
            "  inflating: background/fear.jpg     \n",
            "  inflating: __MACOSX/background/._fear.jpg  \n"
          ],
          "name": "stdout"
        }
      ]
    },
    {
      "cell_type": "code",
      "metadata": {
        "id": "xPJX-q3RaQna",
        "colab": {
          "base_uri": "https://localhost:8080/"
        },
        "outputId": "31cc93d7-174c-4f35-f175-a258db4a68b1"
      },
      "source": [
        "# Folder of audio files\n",
        "!gdown https://drive.google.com/uc?id=1uPS3oNo4gfflvQeCiqUoW_S2E1tNG6xd\n",
        "!unzip OxVocTaken.zip"
      ],
      "execution_count": 3,
      "outputs": [
        {
          "output_type": "stream",
          "text": [
            "Downloading...\n",
            "From: https://drive.google.com/uc?id=1uPS3oNo4gfflvQeCiqUoW_S2E1tNG6xd\n",
            "To: /content/OxVocTaken.zip\n",
            "\r0.00B [00:00, ?B/s]\r8.98MB [00:00, 130MB/s]\n",
            "Archive:  OxVocTaken.zip\n",
            "   creating: OxVocTaken/\n",
            "   creating: OxVocTaken/happy/\n",
            "  inflating: OxVocTaken/.DS_Store    \n",
            "  inflating: __MACOSX/OxVocTaken/._.DS_Store  \n",
            "   creating: OxVocTaken/sad/\n",
            "   creating: OxVocTaken/fear/\n",
            "   creating: OxVocTaken/surprise/\n",
            "   creating: OxVocTaken/neutral/\n",
            "   creating: OxVocTaken/angry/\n",
            "   creating: OxVocTaken/disgust/\n",
            "  inflating: OxVocTaken/happy/Adultfemale_laugh08.wav  \n",
            "  inflating: __MACOSX/OxVocTaken/happy/._Adultfemale_laugh08.wav  \n",
            "  inflating: OxVocTaken/happy/Adultfemale_laugh09.wav  \n",
            "  inflating: __MACOSX/OxVocTaken/happy/._Adultfemale_laugh09.wav  \n",
            "  inflating: OxVocTaken/happy/Adultmale_laugh08.wav  \n",
            "  inflating: __MACOSX/OxVocTaken/happy/._Adultmale_laugh08.wav  \n",
            "  inflating: OxVocTaken/happy/Adultmale_laugh09.wav  \n",
            "  inflating: __MACOSX/OxVocTaken/happy/._Adultmale_laugh09.wav  \n",
            "  inflating: OxVocTaken/happy/Adultmale_laugh01.wav  \n",
            "  inflating: __MACOSX/OxVocTaken/happy/._Adultmale_laugh01.wav  \n",
            "  inflating: OxVocTaken/happy/Adultmale_laugh15.wav  \n",
            "  inflating: __MACOSX/OxVocTaken/happy/._Adultmale_laugh15.wav  \n",
            "  inflating: OxVocTaken/happy/Adultmale_laugh14.wav  \n",
            "  inflating: __MACOSX/OxVocTaken/happy/._Adultmale_laugh14.wav  \n",
            "  inflating: OxVocTaken/happy/Adultmale_laugh02.wav  \n",
            "  inflating: __MACOSX/OxVocTaken/happy/._Adultmale_laugh02.wav  \n",
            "  inflating: OxVocTaken/happy/Adultmale_laugh03.wav  \n",
            "  inflating: __MACOSX/OxVocTaken/happy/._Adultmale_laugh03.wav  \n",
            "  inflating: OxVocTaken/happy/Adultmale_laugh13.wav  \n",
            "  inflating: __MACOSX/OxVocTaken/happy/._Adultmale_laugh13.wav  \n",
            "  inflating: OxVocTaken/happy/Adultmale_laugh07.wav  \n",
            "  inflating: __MACOSX/OxVocTaken/happy/._Adultmale_laugh07.wav  \n",
            "  inflating: OxVocTaken/happy/Adultmale_laugh06.wav  \n",
            "  inflating: __MACOSX/OxVocTaken/happy/._Adultmale_laugh06.wav  \n",
            "  inflating: OxVocTaken/happy/Adultmale_laugh12.wav  \n",
            "  inflating: __MACOSX/OxVocTaken/happy/._Adultmale_laugh12.wav  \n",
            "  inflating: OxVocTaken/happy/Adultmale_laugh10.wav  \n",
            "  inflating: __MACOSX/OxVocTaken/happy/._Adultmale_laugh10.wav  \n",
            "  inflating: OxVocTaken/happy/Adultmale_laugh11.wav  \n",
            "  inflating: __MACOSX/OxVocTaken/happy/._Adultmale_laugh11.wav  \n",
            "  inflating: OxVocTaken/happy/Adultmale_laugh05.wav  \n",
            "  inflating: __MACOSX/OxVocTaken/happy/._Adultmale_laugh05.wav  \n",
            "  inflating: OxVocTaken/happy/Adultfemale_laugh04.wav  \n",
            "  inflating: __MACOSX/OxVocTaken/happy/._Adultfemale_laugh04.wav  \n",
            "  inflating: OxVocTaken/happy/Adultfemale_laugh05.wav  \n",
            "  inflating: __MACOSX/OxVocTaken/happy/._Adultfemale_laugh05.wav  \n",
            "  inflating: OxVocTaken/happy/Adultfemale_laugh11.wav  \n",
            "  inflating: __MACOSX/OxVocTaken/happy/._Adultfemale_laugh11.wav  \n",
            "  inflating: OxVocTaken/happy/Adultfemale_laugh07.wav  \n",
            "  inflating: __MACOSX/OxVocTaken/happy/._Adultfemale_laugh07.wav  \n",
            "  inflating: OxVocTaken/happy/Adultfemale_laugh13.wav  \n",
            "  inflating: __MACOSX/OxVocTaken/happy/._Adultfemale_laugh13.wav  \n",
            "  inflating: OxVocTaken/happy/Adultfemale_laugh06.wav  \n",
            "  inflating: __MACOSX/OxVocTaken/happy/._Adultfemale_laugh06.wav  \n",
            "  inflating: OxVocTaken/happy/Adultfemale_laugh02.wav  \n",
            "  inflating: __MACOSX/OxVocTaken/happy/._Adultfemale_laugh02.wav  \n",
            "  inflating: OxVocTaken/happy/Adultfemale_laugh03.wav  \n",
            "  inflating: __MACOSX/OxVocTaken/happy/._Adultfemale_laugh03.wav  \n",
            "  inflating: OxVocTaken/happy/Adultfemale_laugh15.wav  \n",
            "  inflating: __MACOSX/OxVocTaken/happy/._Adultfemale_laugh15.wav  \n",
            "  inflating: OxVocTaken/happy/Adultfemale_laugh01.wav  \n",
            "  inflating: __MACOSX/OxVocTaken/happy/._Adultfemale_laugh01.wav  \n",
            "  inflating: OxVocTaken/happy/Adultfemale_laugh14.wav  \n",
            "  inflating: __MACOSX/OxVocTaken/happy/._Adultfemale_laugh14.wav  \n",
            "  inflating: OxVocTaken/sad/Adultfemale_cry08.wav  \n",
            "  inflating: __MACOSX/OxVocTaken/sad/._Adultfemale_cry08.wav  \n",
            "  inflating: OxVocTaken/sad/Adultfemale_cry09.wav  \n",
            "  inflating: __MACOSX/OxVocTaken/sad/._Adultfemale_cry09.wav  \n",
            "  inflating: OxVocTaken/sad/Adultfemale_cry10.wav  \n",
            "  inflating: __MACOSX/OxVocTaken/sad/._Adultfemale_cry10.wav  \n",
            "  inflating: OxVocTaken/sad/Adultfemale_cry11.wav  \n",
            "  inflating: __MACOSX/OxVocTaken/sad/._Adultfemale_cry11.wav  \n",
            "  inflating: OxVocTaken/sad/Adultfemale_cry13.wav  \n",
            "  inflating: __MACOSX/OxVocTaken/sad/._Adultfemale_cry13.wav  \n",
            "  inflating: OxVocTaken/sad/Adultfemale_cry07.wav  \n",
            "  inflating: __MACOSX/OxVocTaken/sad/._Adultfemale_cry07.wav  \n",
            "  inflating: OxVocTaken/sad/Adultfemale_cry12.wav  \n",
            "  inflating: __MACOSX/OxVocTaken/sad/._Adultfemale_cry12.wav  \n",
            "  inflating: OxVocTaken/sad/Adultfemale_cry16.wav  \n",
            "  inflating: __MACOSX/OxVocTaken/sad/._Adultfemale_cry16.wav  \n",
            "  inflating: OxVocTaken/sad/Adultfemale_cry02.wav  \n",
            "  inflating: __MACOSX/OxVocTaken/sad/._Adultfemale_cry02.wav  \n",
            "  inflating: OxVocTaken/sad/Adultfemale_cry03.wav  \n",
            "  inflating: __MACOSX/OxVocTaken/sad/._Adultfemale_cry03.wav  \n",
            "  inflating: OxVocTaken/sad/Adultfemale_cry17.wav  \n",
            "  inflating: __MACOSX/OxVocTaken/sad/._Adultfemale_cry17.wav  \n",
            "  inflating: OxVocTaken/sad/Adultfemale_cry01.wav  \n",
            "  inflating: __MACOSX/OxVocTaken/sad/._Adultfemale_cry01.wav  \n",
            "  inflating: OxVocTaken/sad/Adultfemale_cry14.wav  \n",
            "  inflating: __MACOSX/OxVocTaken/sad/._Adultfemale_cry14.wav  \n",
            "  inflating: OxVocTaken/fear/Adultfemale_cry19.wav  \n",
            "  inflating: __MACOSX/OxVocTaken/fear/._Adultfemale_cry19.wav  \n",
            "  inflating: OxVocTaken/fear/Adultfemale_cry18.wav  \n",
            "  inflating: __MACOSX/OxVocTaken/fear/._Adultfemale_cry18.wav  \n",
            "  inflating: OxVocTaken/fear/Adultfemale_cry04.wav  \n",
            "  inflating: __MACOSX/OxVocTaken/fear/._Adultfemale_cry04.wav  \n",
            "  inflating: OxVocTaken/fear/Adultfemale_cry05.wav  \n",
            "  inflating: __MACOSX/OxVocTaken/fear/._Adultfemale_cry05.wav  \n",
            "  inflating: OxVocTaken/fear/Adultfemale_cry06.wav  \n",
            "  inflating: __MACOSX/OxVocTaken/fear/._Adultfemale_cry06.wav  \n",
            "  inflating: OxVocTaken/fear/Adultfemale_cry15.wav  \n",
            "  inflating: __MACOSX/OxVocTaken/fear/._Adultfemale_cry15.wav  \n",
            "  inflating: OxVocTaken/surprise/Adultmale_laugh04.wav  \n",
            "  inflating: __MACOSX/OxVocTaken/surprise/._Adultmale_laugh04.wav  \n",
            "  inflating: OxVocTaken/surprise/Adultfemale_laugh10.wav  \n",
            "  inflating: __MACOSX/OxVocTaken/surprise/._Adultfemale_laugh10.wav  \n",
            "  inflating: OxVocTaken/surprise/Adultfemale_laugh12.wav  \n",
            "  inflating: __MACOSX/OxVocTaken/surprise/._Adultfemale_laugh12.wav  \n",
            "  inflating: OxVocTaken/neutral/Adultmale_neutral11.wav  \n",
            "  inflating: __MACOSX/OxVocTaken/neutral/._Adultmale_neutral11.wav  \n",
            "  inflating: OxVocTaken/neutral/Adultmale_neutral05.wav  \n",
            "  inflating: __MACOSX/OxVocTaken/neutral/._Adultmale_neutral05.wav  \n",
            "  inflating: OxVocTaken/neutral/Adultmale_neutral04.wav  \n",
            "  inflating: __MACOSX/OxVocTaken/neutral/._Adultmale_neutral04.wav  \n",
            "  inflating: OxVocTaken/neutral/Adultmale_neutral10.wav  \n",
            "  inflating: __MACOSX/OxVocTaken/neutral/._Adultmale_neutral10.wav  \n",
            "  inflating: OxVocTaken/neutral/Adultmale_neutral06.wav  \n",
            "  inflating: __MACOSX/OxVocTaken/neutral/._Adultmale_neutral06.wav  \n",
            "  inflating: OxVocTaken/neutral/Adultmale_neutral12.wav  \n",
            "  inflating: __MACOSX/OxVocTaken/neutral/._Adultmale_neutral12.wav  \n",
            "  inflating: OxVocTaken/neutral/Adultmale_neutral13.wav  \n",
            "  inflating: __MACOSX/OxVocTaken/neutral/._Adultmale_neutral13.wav  \n",
            "  inflating: OxVocTaken/neutral/Adultmale_neutral07.wav  \n",
            "  inflating: __MACOSX/OxVocTaken/neutral/._Adultmale_neutral07.wav  \n",
            "  inflating: OxVocTaken/neutral/Adultmale_neutral03.wav  \n",
            "  inflating: __MACOSX/OxVocTaken/neutral/._Adultmale_neutral03.wav  \n",
            "  inflating: OxVocTaken/neutral/.DS_Store  \n",
            "  inflating: __MACOSX/OxVocTaken/neutral/._.DS_Store  \n",
            "  inflating: OxVocTaken/neutral/Adultmale_neutral02.wav  \n",
            "  inflating: __MACOSX/OxVocTaken/neutral/._Adultmale_neutral02.wav  \n",
            "  inflating: OxVocTaken/neutral/Adultmale_neutral14.wav  \n",
            "  inflating: __MACOSX/OxVocTaken/neutral/._Adultmale_neutral14.wav  \n",
            "  inflating: OxVocTaken/neutral/Adultmale_neutral01.wav  \n",
            "  inflating: __MACOSX/OxVocTaken/neutral/._Adultmale_neutral01.wav  \n",
            "  inflating: OxVocTaken/neutral/Adultmale_neutral15.wav  \n",
            "  inflating: __MACOSX/OxVocTaken/neutral/._Adultmale_neutral15.wav  \n",
            "  inflating: OxVocTaken/neutral/Adultfemale_neutral08.wav  \n",
            "  inflating: __MACOSX/OxVocTaken/neutral/._Adultfemale_neutral08.wav  \n",
            "  inflating: OxVocTaken/neutral/Adultfemale_neutral09.wav  \n",
            "  inflating: __MACOSX/OxVocTaken/neutral/._Adultfemale_neutral09.wav  \n",
            "  inflating: OxVocTaken/neutral/Adultfemale_neutral15.wav  \n",
            "  inflating: __MACOSX/OxVocTaken/neutral/._Adultfemale_neutral15.wav  \n",
            "  inflating: OxVocTaken/neutral/Adultfemale_neutral14.wav  \n",
            "  inflating: __MACOSX/OxVocTaken/neutral/._Adultfemale_neutral14.wav  \n",
            "  inflating: OxVocTaken/neutral/Adultfemale_neutral02.wav  \n",
            "  inflating: __MACOSX/OxVocTaken/neutral/._Adultfemale_neutral02.wav  \n",
            "  inflating: OxVocTaken/neutral/Adultfemale_neutral03.wav  \n",
            "  inflating: __MACOSX/OxVocTaken/neutral/._Adultfemale_neutral03.wav  \n",
            "  inflating: OxVocTaken/neutral/Adultfemale_neutral13.wav  \n",
            "  inflating: __MACOSX/OxVocTaken/neutral/._Adultfemale_neutral13.wav  \n",
            "  inflating: OxVocTaken/neutral/Adultfemale_neutral07.wav  \n",
            "  inflating: __MACOSX/OxVocTaken/neutral/._Adultfemale_neutral07.wav  \n",
            "  inflating: OxVocTaken/neutral/Adultfemale_neutral06.wav  \n",
            "  inflating: __MACOSX/OxVocTaken/neutral/._Adultfemale_neutral06.wav  \n",
            "  inflating: OxVocTaken/neutral/Adultfemale_neutral12.wav  \n",
            "  inflating: __MACOSX/OxVocTaken/neutral/._Adultfemale_neutral12.wav  \n",
            "  inflating: OxVocTaken/neutral/Adultfemale_neutral04.wav  \n",
            "  inflating: __MACOSX/OxVocTaken/neutral/._Adultfemale_neutral04.wav  \n",
            "  inflating: OxVocTaken/neutral/Adultfemale_neutral10.wav  \n",
            "  inflating: __MACOSX/OxVocTaken/neutral/._Adultfemale_neutral10.wav  \n",
            "  inflating: OxVocTaken/neutral/Adultfemale_neutral11.wav  \n",
            "  inflating: __MACOSX/OxVocTaken/neutral/._Adultfemale_neutral11.wav  \n",
            "  inflating: OxVocTaken/neutral/Adultmale_neutral09.wav  \n",
            "  inflating: __MACOSX/OxVocTaken/neutral/._Adultmale_neutral09.wav  \n",
            "  inflating: OxVocTaken/neutral/Adultmale_neutral08.wav  \n",
            "  inflating: __MACOSX/OxVocTaken/neutral/._Adultmale_neutral08.wav  \n",
            "  inflating: OxVocTaken/angry/adultmale copy.wav  \n",
            "  inflating: __MACOSX/OxVocTaken/angry/._adultmale copy.wav  \n",
            "  inflating: OxVocTaken/angry/Adultmale.wav  \n",
            "  inflating: __MACOSX/OxVocTaken/angry/._Adultmale.wav  \n",
            "  inflating: OxVocTaken/angry/Adultfemale_neutral05.wav  \n",
            "  inflating: __MACOSX/OxVocTaken/angry/._Adultfemale_neutral05.wav  \n",
            "  inflating: OxVocTaken/disgust/Adultfemale_neutral01.wav  \n",
            "  inflating: __MACOSX/OxVocTaken/disgust/._Adultfemale_neutral01.wav  \n"
          ],
          "name": "stdout"
        }
      ]
    },
    {
      "cell_type": "code",
      "metadata": {
        "id": "Lh__yC08aSv-",
        "colab": {
          "base_uri": "https://localhost:8080/"
        },
        "outputId": "c3fdb3c4-44b2-42fc-a836-0c9e123ac894"
      },
      "source": [
        "# Install facial expression recognition library\n",
        "!pip install fer"
      ],
      "execution_count": 4,
      "outputs": [
        {
          "output_type": "stream",
          "text": [
            "Collecting fer\n",
            "\u001b[?25l  Downloading https://files.pythonhosted.org/packages/e8/81/1e98f3108b1d345428e8bf867c4057256a0fd61bf2719db5bc47cb67347a/fer-20.1.3-py3-none-any.whl (810kB)\n",
            "\u001b[K     |████████████████████████████████| 819kB 3.9MB/s \n",
            "\u001b[?25hRequirement already satisfied: tensorflow~=2.0 in /usr/local/lib/python3.7/dist-packages (from fer) (2.4.1)\n",
            "Requirement already satisfied: requests in /usr/local/lib/python3.7/dist-packages (from fer) (2.23.0)\n",
            "Requirement already satisfied: pandas in /usr/local/lib/python3.7/dist-packages (from fer) (1.1.5)\n",
            "Collecting mtcnn>=0.1.0\n",
            "\u001b[?25l  Downloading https://files.pythonhosted.org/packages/67/43/abee91792797c609c1bf30f1112117f7a87a713ebaa6ec5201d5555a73ef/mtcnn-0.1.0-py3-none-any.whl (2.3MB)\n",
            "\u001b[K     |████████████████████████████████| 2.3MB 18.1MB/s \n",
            "\u001b[?25hRequirement already satisfied: keras in /usr/local/lib/python3.7/dist-packages (from fer) (2.4.3)\n",
            "Requirement already satisfied: opencv-contrib-python in /usr/local/lib/python3.7/dist-packages (from fer) (4.1.2.30)\n",
            "Requirement already satisfied: matplotlib in /usr/local/lib/python3.7/dist-packages (from fer) (3.2.2)\n",
            "Requirement already satisfied: keras-preprocessing~=1.1.2 in /usr/local/lib/python3.7/dist-packages (from tensorflow~=2.0->fer) (1.1.2)\n",
            "Requirement already satisfied: typing-extensions~=3.7.4 in /usr/local/lib/python3.7/dist-packages (from tensorflow~=2.0->fer) (3.7.4.3)\n",
            "Requirement already satisfied: protobuf>=3.9.2 in /usr/local/lib/python3.7/dist-packages (from tensorflow~=2.0->fer) (3.12.4)\n",
            "Requirement already satisfied: h5py~=2.10.0 in /usr/local/lib/python3.7/dist-packages (from tensorflow~=2.0->fer) (2.10.0)\n",
            "Requirement already satisfied: astunparse~=1.6.3 in /usr/local/lib/python3.7/dist-packages (from tensorflow~=2.0->fer) (1.6.3)\n",
            "Requirement already satisfied: grpcio~=1.32.0 in /usr/local/lib/python3.7/dist-packages (from tensorflow~=2.0->fer) (1.32.0)\n",
            "Requirement already satisfied: wheel~=0.35 in /usr/local/lib/python3.7/dist-packages (from tensorflow~=2.0->fer) (0.36.2)\n",
            "Requirement already satisfied: termcolor~=1.1.0 in /usr/local/lib/python3.7/dist-packages (from tensorflow~=2.0->fer) (1.1.0)\n",
            "Requirement already satisfied: tensorflow-estimator<2.5.0,>=2.4.0 in /usr/local/lib/python3.7/dist-packages (from tensorflow~=2.0->fer) (2.4.0)\n",
            "Requirement already satisfied: six~=1.15.0 in /usr/local/lib/python3.7/dist-packages (from tensorflow~=2.0->fer) (1.15.0)\n",
            "Requirement already satisfied: opt-einsum~=3.3.0 in /usr/local/lib/python3.7/dist-packages (from tensorflow~=2.0->fer) (3.3.0)\n",
            "Requirement already satisfied: gast==0.3.3 in /usr/local/lib/python3.7/dist-packages (from tensorflow~=2.0->fer) (0.3.3)\n",
            "Requirement already satisfied: tensorboard~=2.4 in /usr/local/lib/python3.7/dist-packages (from tensorflow~=2.0->fer) (2.4.1)\n",
            "Requirement already satisfied: flatbuffers~=1.12.0 in /usr/local/lib/python3.7/dist-packages (from tensorflow~=2.0->fer) (1.12)\n",
            "Requirement already satisfied: wrapt~=1.12.1 in /usr/local/lib/python3.7/dist-packages (from tensorflow~=2.0->fer) (1.12.1)\n",
            "Requirement already satisfied: numpy~=1.19.2 in /usr/local/lib/python3.7/dist-packages (from tensorflow~=2.0->fer) (1.19.5)\n",
            "Requirement already satisfied: absl-py~=0.10 in /usr/local/lib/python3.7/dist-packages (from tensorflow~=2.0->fer) (0.12.0)\n",
            "Requirement already satisfied: google-pasta~=0.2 in /usr/local/lib/python3.7/dist-packages (from tensorflow~=2.0->fer) (0.2.0)\n",
            "Requirement already satisfied: chardet<4,>=3.0.2 in /usr/local/lib/python3.7/dist-packages (from requests->fer) (3.0.4)\n",
            "Requirement already satisfied: idna<3,>=2.5 in /usr/local/lib/python3.7/dist-packages (from requests->fer) (2.10)\n",
            "Requirement already satisfied: certifi>=2017.4.17 in /usr/local/lib/python3.7/dist-packages (from requests->fer) (2020.12.5)\n",
            "Requirement already satisfied: urllib3!=1.25.0,!=1.25.1,<1.26,>=1.21.1 in /usr/local/lib/python3.7/dist-packages (from requests->fer) (1.24.3)\n",
            "Requirement already satisfied: pytz>=2017.2 in /usr/local/lib/python3.7/dist-packages (from pandas->fer) (2018.9)\n",
            "Requirement already satisfied: python-dateutil>=2.7.3 in /usr/local/lib/python3.7/dist-packages (from pandas->fer) (2.8.1)\n",
            "Requirement already satisfied: opencv-python>=4.1.0 in /usr/local/lib/python3.7/dist-packages (from mtcnn>=0.1.0->fer) (4.1.2.30)\n",
            "Requirement already satisfied: scipy>=0.14 in /usr/local/lib/python3.7/dist-packages (from keras->fer) (1.4.1)\n",
            "Requirement already satisfied: pyyaml in /usr/local/lib/python3.7/dist-packages (from keras->fer) (3.13)\n",
            "Requirement already satisfied: cycler>=0.10 in /usr/local/lib/python3.7/dist-packages (from matplotlib->fer) (0.10.0)\n",
            "Requirement already satisfied: kiwisolver>=1.0.1 in /usr/local/lib/python3.7/dist-packages (from matplotlib->fer) (1.3.1)\n",
            "Requirement already satisfied: pyparsing!=2.0.4,!=2.1.2,!=2.1.6,>=2.0.1 in /usr/local/lib/python3.7/dist-packages (from matplotlib->fer) (2.4.7)\n",
            "Requirement already satisfied: setuptools in /usr/local/lib/python3.7/dist-packages (from protobuf>=3.9.2->tensorflow~=2.0->fer) (56.1.0)\n",
            "Requirement already satisfied: google-auth-oauthlib<0.5,>=0.4.1 in /usr/local/lib/python3.7/dist-packages (from tensorboard~=2.4->tensorflow~=2.0->fer) (0.4.4)\n",
            "Requirement already satisfied: tensorboard-plugin-wit>=1.6.0 in /usr/local/lib/python3.7/dist-packages (from tensorboard~=2.4->tensorflow~=2.0->fer) (1.8.0)\n",
            "Requirement already satisfied: google-auth<2,>=1.6.3 in /usr/local/lib/python3.7/dist-packages (from tensorboard~=2.4->tensorflow~=2.0->fer) (1.30.0)\n",
            "Requirement already satisfied: werkzeug>=0.11.15 in /usr/local/lib/python3.7/dist-packages (from tensorboard~=2.4->tensorflow~=2.0->fer) (2.0.0)\n",
            "Requirement already satisfied: markdown>=2.6.8 in /usr/local/lib/python3.7/dist-packages (from tensorboard~=2.4->tensorflow~=2.0->fer) (3.3.4)\n",
            "Requirement already satisfied: requests-oauthlib>=0.7.0 in /usr/local/lib/python3.7/dist-packages (from google-auth-oauthlib<0.5,>=0.4.1->tensorboard~=2.4->tensorflow~=2.0->fer) (1.3.0)\n",
            "Requirement already satisfied: rsa<5,>=3.1.4; python_version >= \"3.6\" in /usr/local/lib/python3.7/dist-packages (from google-auth<2,>=1.6.3->tensorboard~=2.4->tensorflow~=2.0->fer) (4.7.2)\n",
            "Requirement already satisfied: pyasn1-modules>=0.2.1 in /usr/local/lib/python3.7/dist-packages (from google-auth<2,>=1.6.3->tensorboard~=2.4->tensorflow~=2.0->fer) (0.2.8)\n",
            "Requirement already satisfied: cachetools<5.0,>=2.0.0 in /usr/local/lib/python3.7/dist-packages (from google-auth<2,>=1.6.3->tensorboard~=2.4->tensorflow~=2.0->fer) (4.2.2)\n",
            "Requirement already satisfied: importlib-metadata; python_version < \"3.8\" in /usr/local/lib/python3.7/dist-packages (from markdown>=2.6.8->tensorboard~=2.4->tensorflow~=2.0->fer) (4.0.1)\n",
            "Requirement already satisfied: oauthlib>=3.0.0 in /usr/local/lib/python3.7/dist-packages (from requests-oauthlib>=0.7.0->google-auth-oauthlib<0.5,>=0.4.1->tensorboard~=2.4->tensorflow~=2.0->fer) (3.1.0)\n",
            "Requirement already satisfied: pyasn1>=0.1.3 in /usr/local/lib/python3.7/dist-packages (from rsa<5,>=3.1.4; python_version >= \"3.6\"->google-auth<2,>=1.6.3->tensorboard~=2.4->tensorflow~=2.0->fer) (0.4.8)\n",
            "Requirement already satisfied: zipp>=0.5 in /usr/local/lib/python3.7/dist-packages (from importlib-metadata; python_version < \"3.8\"->markdown>=2.6.8->tensorboard~=2.4->tensorflow~=2.0->fer) (3.4.1)\n",
            "Installing collected packages: mtcnn, fer\n",
            "Successfully installed fer-20.1.3 mtcnn-0.1.0\n"
          ],
          "name": "stdout"
        }
      ]
    },
    {
      "cell_type": "markdown",
      "metadata": {
        "id": "OkR1dY_uBGJW"
      },
      "source": [
        "## Face and Emotion Detection"
      ]
    },
    {
      "cell_type": "code",
      "metadata": {
        "id": "OLsQ9CaVaULW",
        "colab": {
          "base_uri": "https://localhost:8080/"
        },
        "outputId": "9cbb92a1-e08b-442e-d3d4-831f04b368bc"
      },
      "source": [
        "# Import all necessary libraries\n",
        "from fer import FER\n",
        "import matplotlib.pyplot as plt \n",
        "import cv2\n",
        "import os\n",
        "import numpy as np\n",
        "from google.colab.patches import cv2_imshow\n",
        "from PIL import Image\n",
        "import numpy as np"
      ],
      "execution_count": 5,
      "outputs": [
        {
          "output_type": "stream",
          "text": [
            "WARNING:tensorflow:From /usr/local/lib/python3.7/dist-packages/tensorflow/python/compat/v2_compat.py:96: disable_resource_variables (from tensorflow.python.ops.variable_scope) is deprecated and will be removed in a future version.\n",
            "Instructions for updating:\n",
            "non-resource variables are not supported in the long term\n"
          ],
          "name": "stdout"
        }
      ]
    },
    {
      "cell_type": "code",
      "metadata": {
        "id": "wfLIWBXNadxl"
      },
      "source": [
        "# Create new folder with subfolders for emotion detected images\n",
        "os.mkdir('/content/face_emotions/')\n",
        "\n",
        "os.mkdir('/content/face_emotions/person1')\n",
        "os.mkdir('/content/face_emotions/person2')\n",
        "os.mkdir('/content/face_emotions/person3')\n",
        "os.mkdir('/content/face_emotions/person4')\n",
        "os.mkdir('/content/face_emotions/person5')"
      ],
      "execution_count": 6,
      "outputs": []
    },
    {
      "cell_type": "code",
      "metadata": {
        "id": "BSTl3yuHaf6l",
        "colab": {
          "base_uri": "https://localhost:8080/"
        },
        "outputId": "ef0e2a70-5450-45fa-84a0-02669e4ddce2"
      },
      "source": [
        "# Emotion detector function: detects the emotion and adds the corresponding filter \n",
        "detector = FER(mtcnn=True) \n",
        "\n",
        "def emotion_detector(folder):\n",
        "  for file in os.listdir(folder):\n",
        "    if file.endswith(\".jpg\"):\n",
        "      img = cv2.imread(folder + '/' + file, 1)\n",
        "      img = cv2.resize(img, (400,400))\n",
        "      result = detector.detect_emotions(img)\n",
        "      emotion, score = detector.top_emotion(img)\n",
        "      print(file)\n",
        "      print(emotion,score)\n",
        "      if emotion == 'happy':\n",
        "        num = (0,255,255) #yellow\n",
        "      elif emotion == 'sad':\n",
        "        num = (255,0,0) # blue\n",
        "      elif emotion == 'angry':\n",
        "        num = (0,0,255) # red\n",
        "      elif emotion == 'neutral':\n",
        "        num = (128,128,128) # gray\n",
        "      elif emotion == 'disgust':\n",
        "        num = (0,255,0) # green\n",
        "      elif emotion == 'surprise':\n",
        "        num = (255,0,255) # pink\n",
        "      elif emotion == 'fear':\n",
        "        num = (128,0,128) # purple\n",
        "      filter  = np.full(img.shape, num, np.uint8)\n",
        "      fused_img  = cv2.addWeighted(img, 0.8, filter, 0.2, 0)\n",
        "      if '1' in folder:\n",
        "        cv2.imwrite('/content/face_emotions/person1' + '/' + emotion + '_' + file, fused_img)\n",
        "      elif '2' in folder:\n",
        "        cv2.imwrite('/content/face_emotions/person2' + '/' + emotion + '_' + file, fused_img)\n",
        "      elif '3' in folder:\n",
        "        cv2.imwrite('/content/face_emotions/person3' + '/' + emotion + '_' + file, fused_img)\n",
        "      elif '4' in folder:\n",
        "        cv2.imwrite('/content/face_emotions/person4' + '/' + emotion + '_' + file, fused_img)\n",
        "      else:\n",
        "        cv2.imwrite('/content/face_emotions/person5' + '/' + emotion + '_' + file, fused_img)\n",
        "      print('')"
      ],
      "execution_count": 7,
      "outputs": [
        {
          "output_type": "stream",
          "text": [
            "/usr/local/lib/python3.7/dist-packages/tensorflow/python/keras/engine/training.py:2325: UserWarning: `Model.state_updates` will be removed in a future version. This property should not be used in TensorFlow 2.0, as `updates` are applied automatically.\n",
            "  warnings.warn('`Model.state_updates` will be removed in a future version. '\n"
          ],
          "name": "stderr"
        }
      ]
    },
    {
      "cell_type": "code",
      "metadata": {
        "id": "GqP2QhRLaiMe",
        "colab": {
          "base_uri": "https://localhost:8080/"
        },
        "outputId": "44e3c056-9e6e-413b-b324-fbfefc36d93d"
      },
      "source": [
        "# Call the emotion detector function on each folder of faces\n",
        "print('Person 1: \\n')\n",
        "emotion_detector('/content/faces/person1')\n",
        "\n",
        "print('Person 2: \\n')\n",
        "emotion_detector('/content/faces/person2')\n",
        "print('Person 3: \\n')\n",
        "\n",
        "emotion_detector('/content/faces/person3')\n",
        "print('Person 4: \\n')\n",
        "\n",
        "emotion_detector('/content/faces/person4')\n",
        "print('Person 5: \\n')\n",
        "\n",
        "emotion_detector('/content/faces/person5')"
      ],
      "execution_count": 10,
      "outputs": [
        {
          "output_type": "stream",
          "text": [
            "Person 1: \n",
            "\n",
            "IMG_4769.jpg\n",
            "angry 0.42\n",
            "\n",
            "IMG_4770.jpg\n",
            "angry 0.83\n",
            "\n",
            "IMG_4764.jpg\n",
            "happy 1.0\n",
            "\n",
            "IMG_4765.jpg\n",
            "neutral 0.37\n",
            "\n",
            "IMG_4767.jpg\n",
            "angry 0.56\n",
            "\n",
            "IMG_4768.jpg\n",
            "angry 0.35\n",
            "\n",
            "IMG_4766.jpg\n",
            "happy 0.89\n",
            "\n",
            "Person 2: \n",
            "\n",
            "IMG_4760.jpg\n",
            "sad 0.62\n",
            "\n",
            "IMG_4755.jpg\n",
            "neutral 0.56\n",
            "\n",
            "IMG_4754.jpg\n",
            "happy 0.9\n",
            "\n",
            "IMG_4756.jpg\n",
            "happy 0.75\n",
            "\n",
            "IMG_4752.jpg\n",
            "happy 0.98\n",
            "\n",
            "IMG_4750.jpg\n",
            "sad 0.43\n",
            "\n",
            "IMG_4759.jpg\n",
            "sad 0.43\n",
            "\n",
            "Person 3: \n",
            "\n",
            "IMG_4746.jpg\n",
            "surprise 0.71\n",
            "\n",
            "IMG_4743.jpg\n",
            "happy 0.97\n",
            "\n",
            "IMG_4748.jpg\n",
            "neutral 0.74\n",
            "\n",
            "IMG_4742.jpg\n",
            "neutral 0.43\n",
            "\n",
            "IMG_4744.jpg\n",
            "surprise 0.72\n",
            "\n",
            "IMG_4745.jpg\n",
            "neutral 0.61\n",
            "\n",
            "IMG_4747.jpg\n",
            "neutral 0.45\n",
            "\n",
            "Person 4: \n",
            "\n",
            "IMG_1598.jpg\n",
            "fear 0.87\n",
            "\n",
            "IMG_1592.jpg\n",
            "angry 0.52\n",
            "\n",
            "IMG_1595.jpg\n",
            "happy 1.0\n",
            "\n",
            "IMG_1594.jpg\n",
            "fear 0.91\n",
            "\n",
            "IMG_1596.jpg\n",
            "sad 0.39\n",
            "\n",
            "IMG_1597.jpg\n",
            "sad 0.69\n",
            "\n",
            "IMG_1593.jpg\n",
            "sad 0.79\n",
            "\n",
            "Person 5: \n",
            "\n",
            "IMG_1608.jpg\n",
            "disgust 0.76\n",
            "\n",
            "IMG_1613.jpg\n",
            "sad 0.4\n",
            "\n",
            "IMG_1609.jpg\n",
            "neutral 0.67\n",
            "\n",
            "IMG_1607.jpg\n",
            "angry 0.87\n",
            "\n",
            "IMG_1611.jpg\n",
            "neutral 0.68\n",
            "\n",
            "IMG_1612.jpg\n",
            "happy 1.0\n",
            "\n",
            "IMG_1610.jpg\n",
            "neutral 0.48\n",
            "\n"
          ],
          "name": "stdout"
        }
      ]
    },
    {
      "cell_type": "markdown",
      "metadata": {
        "id": "iwjyPBdUBOE-"
      },
      "source": [
        "## Create Emoji"
      ]
    },
    {
      "cell_type": "code",
      "metadata": {
        "id": "oKMEsUCSajfJ"
      },
      "source": [
        "# Create new folder with subfolders for emoji images\n",
        "os.mkdir('/content/face_emojis/')\n",
        "\n",
        "os.mkdir('/content/face_emojis/person1')\n",
        "os.mkdir('/content/face_emojis/person2')\n",
        "os.mkdir('/content/face_emojis/person3')\n",
        "os.mkdir('/content/face_emojis/person4')\n",
        "os.mkdir('/content/face_emojis/person5')"
      ],
      "execution_count": 11,
      "outputs": []
    },
    {
      "cell_type": "code",
      "metadata": {
        "id": "JL551ibtamFR"
      },
      "source": [
        "# Make emoji function: transforms image into an emoj5 using color palette manipulation \n",
        "def make_emoji(folder):\n",
        "  for file in os.listdir(folder):\n",
        "    if file.endswith(\".jpg\"):\n",
        "      img = Image.open(folder + '/' + file)\n",
        "      emoji_image = img.convert(\"P\", palette=Image.ADAPTIVE, colors=8)\n",
        "      if '1' in folder:\n",
        "        emoji_image.convert('RGB').save('/content/face_emojis/person1/' + file)\n",
        "      elif '2' in folder:\n",
        "        emoji_image.convert('RGB').save('/content/face_emojis/person2/' + file)\n",
        "      elif '3' in folder:\n",
        "        emoji_image.convert('RGB').save('/content/face_emojis/person3/' + file)\n",
        "      elif '4' in folder:\n",
        "        emoji_image.convert('RGB').save('/content/face_emojis/person4/' + file)\n",
        "      else:\n",
        "        emoji_image.convert('RGB').save('/content/face_emojis/person5/' + file)"
      ],
      "execution_count": 12,
      "outputs": []
    },
    {
      "cell_type": "code",
      "metadata": {
        "id": "f2Rj3ptWanG_"
      },
      "source": [
        "# Call the make emoji function on each folder of emotion detected faces\n",
        "make_emoji('/content/face_emotions/person1')\n",
        "make_emoji('/content/face_emotions/person2')\n",
        "make_emoji('/content/face_emotions/person3')\n",
        "make_emoji('/content/face_emotions/person4')\n",
        "make_emoji('/content/face_emotions/person5')"
      ],
      "execution_count": 13,
      "outputs": []
    },
    {
      "cell_type": "code",
      "metadata": {
        "id": "YXl5oLM32KFx"
      },
      "source": [
        "# Create new folder with subfolders for emoji images with corresponding background\n",
        "os.mkdir('/content/emoji_images/')\n",
        "\n",
        "os.mkdir('/content/emoji_images/person1')\n",
        "os.mkdir('/content/emoji_images/person2')\n",
        "os.mkdir('/content/emoji_images/person3')\n",
        "os.mkdir('/content/emoji_images/person4')\n",
        "os.mkdir('/content/emoji_images/person5')"
      ],
      "execution_count": 14,
      "outputs": []
    },
    {
      "cell_type": "code",
      "metadata": {
        "id": "_qFCPr1eIcrv"
      },
      "source": [
        "# Emoji background function: adds the corresponding background to each image \n",
        "def emoji_background(folder):\n",
        "  for file in os.listdir(folder):\n",
        "    img = Image.open(folder + '/' + file)\n",
        "    img_w, img_h = img.size\n",
        "    img = img.resize((img_w//2,img_h//2))\n",
        "    img_w, img_h = img.size\n",
        "    if 'happy' in file:\n",
        "      background = Image.open('/content/background/happy.jpg')\n",
        "    elif 'sad' in file:\n",
        "      background = Image.open('/content/background/sad.jpg')\n",
        "    elif 'angry' in file:\n",
        "      background = Image.open('/content/background/anger.jpg')\n",
        "    elif 'disgust' in file:\n",
        "      background = Image.open('/content/background/disgust.jpg')\n",
        "    elif 'surprise' in file:\n",
        "      background = Image.open('/content/background/surprise.jpg')\n",
        "    elif 'neutral' in file:\n",
        "      background = Image.open('/content/background/neutral.jpg')\n",
        "    elif 'fear' in file:\n",
        "      background = Image.open('/content/background/fear.jpg')\n",
        "    background = background.resize((img_w*2,img_h*2))\n",
        "    bg_w, bg_h = background.size\n",
        "    offset = ((bg_w - img_w) // 2, (bg_h - img_h) // 2)\n",
        "    background.paste(img, offset)\n",
        "    if '1' in folder:\n",
        "      background.save('/content/emoji_images/person1/emoji_' + file)\n",
        "    elif '2' in folder:\n",
        "      background.save('/content/emoji_images/person2/emoji_' + file)\n",
        "    elif '3' in folder:\n",
        "      background.save('/content/emoji_images/person3/emoji_' + file)\n",
        "    elif '4' in folder:\n",
        "      background.save('/content/emoji_images/person4/emoji_' + file)\n",
        "    else:\n",
        "      background.save('/content/emoji_images/person5/emoji_' + file)"
      ],
      "execution_count": 15,
      "outputs": []
    },
    {
      "cell_type": "code",
      "metadata": {
        "id": "IGRkFO02ymmc"
      },
      "source": [
        "# Call the emoji background function on each folder of face emojis\n",
        "emoji_background('/content/face_emojis/person1')\n",
        "emoji_background('/content/face_emojis/person2')\n",
        "emoji_background('/content/face_emojis/person3')\n",
        "emoji_background('/content/face_emojis/person4')\n",
        "emoji_background('/content/face_emojis/person5')"
      ],
      "execution_count": 16,
      "outputs": []
    },
    {
      "cell_type": "markdown",
      "metadata": {
        "id": "RrJDkry5BKZn"
      },
      "source": [
        "## Audio Input"
      ]
    },
    {
      "cell_type": "code",
      "metadata": {
        "id": "cKJStuaS_346"
      },
      "source": [
        "# Create new folder with subfolders for emojis with audio\n",
        "os.mkdir('/content/emoji_audios')\n",
        "\n",
        "os.mkdir('/content/emoji_audios/person1')\n",
        "os.mkdir('/content/emoji_audios/person2')\n",
        "os.mkdir('/content/emoji_audios/person3')\n",
        "os.mkdir('/content/emoji_audios/person4')\n",
        "os.mkdir('/content/emoji_audios/person5')"
      ],
      "execution_count": 17,
      "outputs": []
    },
    {
      "cell_type": "code",
      "metadata": {
        "id": "x-X0TU0sAVeo"
      },
      "source": [
        "# Add audio function: adds the corresponding audio to each emoji \n",
        "def add_audio(folder):\n",
        "  i = 1\n",
        "  if '1' in folder:\n",
        "    os.chdir('/content/emoji_audios/person1')\n",
        "  elif '2' in folder:\n",
        "    os.chdir('/content/emoji_audios/person2')\n",
        "  elif '3' in folder:\n",
        "    os.chdir('/content/emoji_audios/person3')\n",
        "  elif '4' in folder:\n",
        "    os.chdir('/content/emoji_audios/person4')\n",
        "  else:\n",
        "    os.chdir('/content/emoji_audios/person5')\n",
        "  for img in os.listdir(folder):\n",
        "    file = folder + '/' + img\n",
        "    if 'happy' in file: \n",
        "      path = 'ffmpeg -loop 1 -i ' + file + ' -i /content/OxVocTaken/happy/Adultfemale_laugh01.wav -c:v libx264 -tune stillimage -c:a aac -b:a 192k -pix_fmt yuv420p -shortest audio_emoji' + str(i) + '.mp4;'\n",
        "    elif 'sad' in file:\n",
        "      path = 'ffmpeg -loop 1 -i ' + file + ' -i /content/OxVocTaken/sad/Adultfemale_cry01.wav -c:v libx264 -tune stillimage -c:a aac -b:a 192k -pix_fmt yuv420p -shortest audio_emoji' + str(i) + '.mp4;'\n",
        "    elif 'angry' in file:\n",
        "      path = 'ffmpeg -loop 1 -i ' + file + ' -i /content/OxVocTaken/angry/Adultfemale_neutral05.wav -c:v libx264 -tune stillimage -c:a aac -b:a 192k -pix_fmt yuv420p -shortest audio_emoji' + str(i) + '.mp4;'\n",
        "    elif 'disgust' in file:\n",
        "      path = 'ffmpeg -loop 1 -i ' + file + ' -i /content/OxVocTaken/disgust/Adultfemale_neutral01.wav -c:v libx264 -tune stillimage -c:a aac -b:a 192k -pix_fmt yuv420p -shortest audio_emoji' + str(i) + '.mp4;'\n",
        "    elif 'surprise' in file:\n",
        "      path = 'ffmpeg -loop 1 -i ' + file + ' -i /content/OxVocTaken/surprise/Adultfemale_laugh10.wav -c:v libx264 -tune stillimage -c:a aac -b:a 192k -pix_fmt yuv420p -shortest audio_emoji' + str(i) + '.mp4;'\n",
        "    elif 'neutral' in file:\n",
        "      path = 'ffmpeg -loop 1 -i ' + file + ' -i /content/OxVocTaken/neutral/Adultfemale_neutral02.wav -c:v libx264 -tune stillimage -c:a aac -b:a 192k -pix_fmt yuv420p -shortest audio_emoji' + str(i) + '.mp4;'\n",
        "    elif 'fear' in file:\n",
        "      path = 'ffmpeg -loop 1 -i ' + file + ' -i /content/OxVocTaken/fear/Adultfemale_cry04.wav -c:v libx264 -tune stillimage -c:a aac -b:a 192k -pix_fmt yuv420p -shortest audio_emoji' + str(i) + '.mp4;'\n",
        "    os.system(path)\n",
        "    i += 1"
      ],
      "execution_count": 18,
      "outputs": []
    },
    {
      "cell_type": "code",
      "metadata": {
        "id": "bpJbpHnSF7j0"
      },
      "source": [
        "# Call the add audio function on each folder of emoji images\n",
        "add_audio('/content/emoji_images/person1')\n",
        "add_audio('/content/emoji_images/person2')\n",
        "add_audio('/content/emoji_images/person3')\n",
        "add_audio('/content/emoji_images/person4')\n",
        "add_audio('/content/emoji_images/person5')"
      ],
      "execution_count": 19,
      "outputs": []
    }
  ]
}